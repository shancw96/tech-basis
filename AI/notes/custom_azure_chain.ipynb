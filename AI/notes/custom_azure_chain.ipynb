{
 "cells": [
  {
   "attachments": {},
   "cell_type": "markdown",
   "metadata": {},
   "source": [
    "这个笔记用于记录langchain 自定义chain + callback \n",
    "> 感觉langchain 存在bug，document_retrive 没有生效，暂时先不处理了"
   ]
  },
  {
   "cell_type": "code",
   "execution_count": null,
   "metadata": {},
   "outputs": [],
   "source": [
    "from dotenv import load_dotenv\n",
    "import os\n",
    "\n",
    "load_dotenv('/Users/wushangcheng/project/tech-basis/AI/.env')\n",
    "\n",
    "OPENAI_API_BASE = os.getenv('OPENAI_API_BASE')\n",
    "OPENAI_API_VERSION = os.getenv('OPENAI_API_VERSION')\n",
    "OPENAI_API_TYPE = os.getenv('OPENAI_API_TYPE')\n",
    "OPENAI_API_KEY = os.getenv('OPENAI_API_KEY')\n",
    "OPENAI_CHAT_DEPLOY_NAME=os.getenv('OPENAI_CHAT_DEPLOY_NAME')"
   ]
  },
  {
   "attachments": {},
   "cell_type": "markdown",
   "metadata": {},
   "source": [
    "模型创建"
   ]
  },
  {
   "cell_type": "code",
   "execution_count": null,
   "metadata": {},
   "outputs": [],
   "source": [
    "\n",
    "from langchain.chat_models import AzureChatOpenAI\n",
    "from langchain.embeddings.openai import OpenAIEmbeddings\n",
    "\n",
    "llm = AzureChatOpenAI(\n",
    "  openai_api_base=OPENAI_API_BASE,\n",
    "  openai_api_version=OPENAI_API_VERSION,\n",
    "  deployment_name=OPENAI_CHAT_DEPLOY_NAME,\n",
    "  openai_api_key=OPENAI_API_KEY,\n",
    "  openai_api_type=OPENAI_API_TYPE,\n",
    "  streaming=True,\n",
    "  verbose=True,\n",
    ")\n",
    "\n",
    "embeddings = OpenAIEmbeddings(deployment=\"embedding\", chunk_size=1)"
   ]
  },
  {
   "attachments": {},
   "cell_type": "markdown",
   "metadata": {},
   "source": [
    "加载文档 vectordb"
   ]
  },
  {
   "cell_type": "code",
   "execution_count": null,
   "metadata": {},
   "outputs": [],
   "source": [
    "\n",
    "from langchain.vectorstores import Chroma\n",
    "import chromadb\n",
    "from chromadb.config import Settings\n",
    "\n",
    "from langchain.document_loaders import DirectoryLoader\n",
    "\n",
    "from langchain.text_splitter import RecursiveCharacterTextSplitter\n",
    "from langchain.vectorstores import Chroma\n",
    "\n",
    "def is_chroma_collection_exist(collection_name, persist_dir):\n",
    "    print(collection_name, persist_dir)\n",
    "    try:\n",
    "        client = chromadb.Client(Settings(\n",
    "            chroma_db_impl=\"duckdb+parquet\",\n",
    "            persist_directory=persist_dir\n",
    "        ))\n",
    "        client.get_collection(name=collection_name)\n",
    "        return True\n",
    "    except Exception as e:\n",
    "        print(e)\n",
    "        return False\n",
    "\n",
    "def get_or_init_docs_collection(collection_name, docs_source_path, embedding, persist_dir):\n",
    "    print('code in')\n",
    "    try:\n",
    "        if not is_chroma_collection_exist(collection_name=collection_name, persist_dir=persist_dir):\n",
    "            loader = DirectoryLoader(docs_source_path, glob=\"**/*.md\")\n",
    "            docs = loader.load()\n",
    "            print(f'You have {len(docs)} document(s) in your data')\n",
    "            text_splitter = RecursiveCharacterTextSplitter(\n",
    "                chunk_size=1000, chunk_overlap=0)\n",
    "            split_docs = text_splitter.split_documents(docs)\n",
    "            vectorstore = Chroma.from_documents(\n",
    "                split_docs, embedding, persist_directory=persist_dir)\n",
    "            vectorstore.persist()\n",
    "            print(f'已为当前文档集生成矢量数据')\n",
    "            vectorstore = None\n",
    "\n",
    "        return Chroma(persist_directory=persist_dir, embedding_function=embedding, collection_name=collection_name)\n",
    "    except Exception as e:\n",
    "        print(\"####文档矢量数据库加载失败####\")\n",
    "        print(e)\n",
    "\n",
    "\n",
    "document_v_db = get_or_init_docs_collection(\n",
    "    collection_name='test_001_doc', \n",
    "    docs_source_path=\"/Users/wushangcheng/Desktop/Archive\", \n",
    "    embedding=embeddings, \n",
    "    persist_dir=\"./store/doc\"\n",
    ")"
   ]
  },
  {
   "attachments": {},
   "cell_type": "markdown",
   "metadata": {},
   "source": [
    "加载聊天历史记录 vectordb"
   ]
  },
  {
   "cell_type": "code",
   "execution_count": null,
   "metadata": {},
   "outputs": [],
   "source": [
    "# 判断是否存在该聊天分组的矢量数据库，不存在就新建一个\n",
    "def get_or_create_chatgroup_vector_db(chat_id, embedding, persist_dir=\"store\"):\n",
    "    if not is_chroma_collection_exist(chat_id, persist_dir):\n",
    "        print(\"正在使用历史聊天记录为当前聊天分组构建矢量数据库...\")\n",
    "        # TODO: retrive chat history from db\n",
    "        chat_history = [\n",
    "            \"System: You are a assistant, you will answer Human questions, use the following pieces of context to answer the question . Try to give some answer Human may like.\"]\n",
    "        vectordb = Chroma.from_texts(\n",
    "            persist_directory=persist_dir, texts=chat_history, embedding=embedding, collection_name=chat_id)\n",
    "        vectordb.persist()\n",
    "        vectordb = None\n",
    "\n",
    "    return Chroma(persist_directory=persist_dir, embedding_function=embedding, collection_name=chat_id)\n",
    "\n",
    "\n",
    "chat_v_db = get_or_create_chatgroup_vector_db(\"test_001_chat\", embeddings, './store/doc')"
   ]
  },
  {
   "attachments": {},
   "cell_type": "markdown",
   "metadata": {},
   "source": [
    "使用chat_c_db + doc_v_db 创建conversationRetrivalChain"
   ]
  },
  {
   "cell_type": "code",
   "execution_count": null,
   "metadata": {},
   "outputs": [],
   "source": [
    "\n",
    "from langchain.memory import VectorStoreRetrieverMemory\n",
    "from langchain.chains import ConversationalRetrievalChain\n",
    "from langchain.callbacks import get_openai_callback\n",
    "\n",
    "chat_retriever = chat_v_db.as_retriever(search_kwargs=dict(k=3))\n",
    "chat_memory = VectorStoreRetrieverMemory(retriever=chat_retriever, memory_key=\"chat_history\")\n",
    "\n",
    "chat_memory.save_context(\n",
    "    {\"Human\": \"什么是mysql数据库?\"},\n",
    "    {\"Assistant\": \"MySQL是一种流行的开源关系型数据库管理系统（RDBMS），可以用于存储和管理各种类型的数据。它是一个客户端-服务器模型的数据库系统，支持多用户和多线程操作。MySQL具有较高的可扩展性、可靠性和灵活性，因此被广泛应用于Web应用程序、企业级应用程序等方面。MySQL支持多种编程语言，如C、C++、Java、Perl、Python等，并提供了许多API，例如ODBC、JDBC、.NET等，使得与其他应用程序的集成变得更加容易。MySQL还提供了许多高级功能，例如事务处理、视图、触发器、存储过程、用户定义的函数等，这些功能使得用户可以更加方便地管理和操作数据库。总之，MySQL是一个功能强大、灵活、易于使用的关系型数据库管理系统，适合各种规模和类型的应用程序。\"}, \n",
    "    )\n",
    "def get_chat_history(inputs) -> str:\n",
    "    res = []\n",
    "    for chat_log in inputs:\n",
    "        res.append(f\"{chat_log}\")\n",
    "    return \"\\n\".join(res)\n",
    "\n",
    "qa = ConversationalRetrievalChain.from_llm(\n",
    "    llm, \n",
    "    document_v_db.as_retriever(), \n",
    "    memory=chat_memory, \n",
    "    get_chat_history=get_chat_history, \n",
    "    verbose=True\n",
    "    )\n",
    "result = qa({\"question\": \"在docker 中如何创建它？\"})\n",
    "print('–––––––––––––––chat_question–––––––––––––––––––––')\n",
    "print(result['question'])\n",
    "print('–––––––––––––––chat_answer–––––––––––––––––––––')\n",
    "print(result['answer'])\n",
    "\n"
   ]
  }
 ],
 "metadata": {
  "kernelspec": {
   "display_name": "Python 3",
   "language": "python",
   "name": "python3"
  },
  "language_info": {
   "codemirror_mode": {
    "name": "ipython",
    "version": 3
   },
   "file_extension": ".py",
   "mimetype": "text/x-python",
   "name": "python",
   "nbconvert_exporter": "python",
   "pygments_lexer": "ipython3",
   "version": "3.9.12"
  },
  "orig_nbformat": 4
 },
 "nbformat": 4,
 "nbformat_minor": 2
}
